{
 "cells": [
  {
   "cell_type": "code",
   "execution_count": 1,
   "metadata": {},
   "outputs": [],
   "source": [
    "using HTTP"
   ]
  },
  {
   "cell_type": "code",
   "execution_count": 3,
   "metadata": {},
   "outputs": [
    {
     "data": {
      "text/plain": [
       "\"https://raw.githubusercontent.com/jbrownlee/Datasets/master/shampoo.csv\""
      ]
     },
     "execution_count": 3,
     "metadata": {},
     "output_type": "execute_result"
    }
   ],
   "source": [
    "url = \"https://raw.githubusercontent.com/jbrownlee/Datasets/master/shampoo.csv\""
   ]
  },
  {
   "cell_type": "code",
   "execution_count": 4,
   "metadata": {},
   "outputs": [
    {
     "data": {
      "text/plain": [
       "HTTP.Messages.Response:\n",
       "\"\"\"\n",
       "HTTP/1.1 200 OK\r\n",
       "Content-Security-Policy: default-src 'none'; style-src 'unsafe-inline'; sandbox\r\n",
       "Strict-Transport-Security: max-age=31536000\r\n",
       "X-Content-Type-Options: nosniff\r\n",
       "X-Frame-Options: deny\r\n",
       "X-XSS-Protection: 1; mode=block\r\n",
       "ETag: \"f43d4308f6a34a4b97bc138367734352cfb0575d\"\r\n",
       "Content-Type: text/plain; charset=utf-8\r\n",
       "Cache-Control: max-age=300\r\n",
       "X-Geo-Block-List: \r\n",
       "X-GitHub-Request-Id: C8A6:5A76:EA77C:FC236:5AF51BD0\r\n",
       "Content-Length: 519\r\n",
       "Accept-Ranges: bytes\r\n",
       "Date: Fri, 11 May 2018 04:28:02 GMT\r\n",
       "Via: 1.1 varnish\r\n",
       "Connection: keep-alive\r\n",
       "X-Served-By: cache-ord1737-ORD\r\n",
       "X-Cache: MISS\r\n",
       "X-Cache-Hits: 0\r\n",
       "X-Timer: S1526012883.569671,VS0,VE69\r\n",
       "Vary: Authorization,Accept-Encoding\r\n",
       "Access-Control-Allow-Origin: *\r\n",
       "X-Fastly-Request-ID: b8e515ac212b3794d3f90268c307f84b8322dc19\r\n",
       "Expires: Fri, 11 May 2018 04:33:02 GMT\r\n",
       "Source-Age: 0\r\n",
       "\r\n",
       "\"Month\",\"Sales\"\r\n",
       "\"1-01\",266.0\r\n",
       "\"1-02\",145.9\r\n",
       "\"1-03\",183.1\r\n",
       "\"1-04\",119.3\r\n",
       "\"1-05\",180.3\r\n",
       "\"1-06\",168.5\r\n",
       "\"1-07\",231.8\r\n",
       "\"1-08\",224.5\r\n",
       "\"1-09\",192.8\r\n",
       "\"1-10\",122.9\r\n",
       "\"1-11\",336.5\r\n",
       "\"1-12\",185.9\r\n",
       "\"2-01\",194.3\r\n",
       "\"2-02\",149.5\r\n",
       "\"2-03\",210.1\r\n",
       "\"2-04\",273.3\r\n",
       "\"2-05\",191.4\r\n",
       "\"2-06\",287.0\r\n",
       "\"2-07\",226.0\r\n",
       "\"2-08\",303.6\r\n",
       "\"2-09\",289.9\r\n",
       "\"2-10\",421.6\r\n",
       "\"2-11\",264.5\r\n",
       "\"2-12\",342.3\r\n",
       "\"3-01\",339.7\r\n",
       "\"3-02\",440.4\r\n",
       "\"3-03\",315.9\r\n",
       "\"3-04\",439.3\r\n",
       "\"3-05\",401.3\r\n",
       "\"3-06\",437.4\r\n",
       "\"3-07\",575.5\r\n",
       "\"3-08\",407.6\r\n",
       "\"3-09\",682.0\r\n",
       "\"3-10\",475.3\r\n",
       "\"3-11\",581.3\r\n",
       "\"3-12\",646.9\"\"\""
      ]
     },
     "execution_count": 4,
     "metadata": {},
     "output_type": "execute_result"
    }
   ],
   "source": [
    "resp = HTTP.get(url)"
   ]
  },
  {
   "cell_type": "code",
   "execution_count": 7,
   "metadata": {},
   "outputs": [
    {
     "data": {
      "text/plain": [
       "(Any[\"1-01\" 266.0; \"1-02\" 145.9; … ; \"3-11\" 581.3; \"3-12\" 646.9], AbstractString[\"Month\" \"Sales\"])"
      ]
     },
     "execution_count": 7,
     "metadata": {},
     "output_type": "execute_result"
    }
   ],
   "source": [
    "A, cols = readcsv(resp.body, header=true)"
   ]
  },
  {
   "cell_type": "code",
   "execution_count": 13,
   "metadata": {},
   "outputs": [
    {
     "data": {
      "text/plain": [
       "36-element Array{Float64,1}:\n",
       " 266.0\n",
       " 145.9\n",
       " 183.1\n",
       " 119.3\n",
       " 180.3\n",
       " 168.5\n",
       " 231.8\n",
       " 224.5\n",
       " 192.8\n",
       " 122.9\n",
       " 336.5\n",
       " 185.9\n",
       " 194.3\n",
       "   ⋮  \n",
       " 339.7\n",
       " 440.4\n",
       " 315.9\n",
       " 439.3\n",
       " 401.3\n",
       " 437.4\n",
       " 575.5\n",
       " 407.6\n",
       " 682.0\n",
       " 475.3\n",
       " 581.3\n",
       " 646.9"
      ]
     },
     "execution_count": 13,
     "metadata": {},
     "output_type": "execute_result"
    }
   ],
   "source": [
    "y = Float64.(A[:,2])"
   ]
  },
  {
   "cell_type": "code",
   "execution_count": 17,
   "metadata": {},
   "outputs": [
    {
     "data": {
      "text/plain": [
       "([266.0, 145.9, 183.1, 119.3, 180.3, 168.5, 231.8, 224.5, 192.8, 122.9  …  210.1, 273.3, 191.4, 287.0, 226.0, 303.6, 289.9, 421.6, 264.5, 342.3], [339.7, 440.4, 315.9, 439.3, 401.3, 437.4, 575.5, 407.6, 682.0, 475.3, 581.3, 646.9])"
      ]
     },
     "execution_count": 17,
     "metadata": {},
     "output_type": "execute_result"
    }
   ],
   "source": [
    "train, test = y[1:(end-12)], y[(end-12+1):end]"
   ]
  },
  {
   "cell_type": "code",
   "execution_count": 21,
   "metadata": {},
   "outputs": [],
   "source": [
    "using Forecast"
   ]
  },
  {
   "cell_type": "code",
   "execution_count": 27,
   "metadata": {},
   "outputs": [],
   "source": [
    "x₀ = train[end]\n",
    "ŷ = zero(test)\n",
    "\n",
    "for i in eachindex(test)\n",
    "    ŷ[i] = x₀\n",
    "    x₀ = test[i]\n",
    "end"
   ]
  },
  {
   "cell_type": "code",
   "execution_count": 47,
   "metadata": {
    "collapsed": true
   },
   "outputs": [],
   "source": [
    "mdl = naivef(train)\n",
    "forecast(mdl, 1)\n",
    "\n",
    "test′ = [train[end]; test]\n",
    "ŷ = zero(test)\n",
    "for i in eachindex(test)\n",
    "    arr = @view test′[1:i]\n",
    "    m = naivef(arr)\n",
    "    ŷ[i] = first(forecast(m, 1))\n",
    "end"
   ]
  },
  {
   "cell_type": "code",
   "execution_count": 50,
   "metadata": {},
   "outputs": [
    {
     "data": {
      "text/plain": [
       "12-element Array{Float64,1}:\n",
       " 342.3\n",
       " 339.7\n",
       " 440.4\n",
       " 315.9\n",
       " 439.3\n",
       " 401.3\n",
       " 437.4\n",
       " 575.5\n",
       " 407.6\n",
       " 682.0\n",
       " 475.3\n",
       " 581.3"
      ]
     },
     "execution_count": 50,
     "metadata": {},
     "output_type": "execute_result"
    }
   ],
   "source": [
    "ŷ"
   ]
  }
 ],
 "metadata": {
  "kernelspec": {
   "display_name": "Julia 0.6.2",
   "language": "julia",
   "name": "julia-0.6"
  },
  "language_info": {
   "file_extension": ".jl",
   "mimetype": "application/julia",
   "name": "julia",
   "version": "0.6.2"
  }
 },
 "nbformat": 4,
 "nbformat_minor": 2
}
